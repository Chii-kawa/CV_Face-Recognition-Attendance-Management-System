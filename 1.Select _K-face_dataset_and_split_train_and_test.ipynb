{
 "cells": [
  {
   "cell_type": "markdown",
   "metadata": {},
   "source": [
    "# Select K-face dataset and split train and test\n",
    "\n",
    "- http://www.aihub.or.kr/aidata/73\n",
    "\n",
    "> 데이터 구조\n",
    "- 포즈 20종 (C1 ~ C20)\n",
    "- 조명 30종 (L1 ~ L30):L1(Lux1000)만 사용\n",
    "- 액세서리 6종 (S001 ~ S006): S001(보통)만 사용\n",
    "- 표정 3종 (E01 ~ E03)\n",
    "\n",
    "> train and test\n",
    "- train: random 40장\n",
    "- test: random 20장"
   ]
  },
  {
   "cell_type": "code",
   "execution_count": 2,
   "metadata": {},
   "outputs": [],
   "source": [
    "import os\n",
    "from imutils import paths\n",
    "import random\n",
    "import shutil\n",
    "from tqdm import tqdm"
   ]
  },
  {
   "cell_type": "code",
   "execution_count": 15,
   "metadata": {},
   "outputs": [
    {
     "data": {
      "text/plain": [
       "'c:\\\\Users\\\\king7\\\\OneDrive\\\\바탕 화면\\\\KHU\\\\CV_Project\\\\Project-Arcface\\\\preprocessing\\\\data/k-face/old_path'"
      ]
     },
     "execution_count": 15,
     "metadata": {},
     "output_type": "execute_result"
    }
   ],
   "source": [
    "old_path  = os.path.join(os.getcwd(), 'data/k-face/old_path')\n",
    "old_path"
   ]
  },
  {
   "cell_type": "code",
   "execution_count": 16,
   "metadata": {},
   "outputs": [
    {
     "name": "stdout",
     "output_type": "stream",
     "text": [
      "[WinError 183] 파일이 이미 있으므로 만들 수 없습니다: 'c:\\\\Users\\\\king7\\\\OneDrive\\\\바탕 화면\\\\KHU\\\\CV_Project\\\\Project-Arcface\\\\preprocessing\\\\data/k-face/new_path\\\\train'\n"
     ]
    }
   ],
   "source": [
    "new_path = os.path.join(os.getcwd(), 'data/k-face/old_path').replace('old', 'new')\n",
    "\n",
    "try:\n",
    "    os.makedirs(os.path.join(new_path, 'train'))\n",
    "    os.makedirs(os.path.join(new_path, 'test'))\n",
    "except Exception as err:\n",
    "    print(err)\n",
    "\n",
    "    "
   ]
  },
  {
   "cell_type": "code",
   "execution_count": 11,
   "metadata": {},
   "outputs": [
    {
     "data": {
      "text/plain": [
       "[5, 8, 0, 4, 7, 3, 2, 6, 9, 1]"
      ]
     },
     "execution_count": 11,
     "metadata": {},
     "output_type": "execute_result"
    }
   ],
   "source": [
    "a = list(range(10))\n",
    "a\n",
    "\n",
    "random.shuffle(a)\n",
    "a"
   ]
  },
  {
   "cell_type": "code",
   "execution_count": 19,
   "metadata": {},
   "outputs": [
    {
     "name": "stderr",
     "output_type": "stream",
     "text": [
      "100%|██████████| 30/30 [00:00<00:00, 1431.36it/s]"
     ]
    },
    {
     "name": "stdout",
     "output_type": "stream",
     "text": [
      "data/k-face/new_path/train/2400\n",
      "data/k-face/new_path/test/2400\n",
      "c:\\Users\\king7\\OneDrive\\바탕 화면\\KHU\\CV_Project\\Project-Arcface\\preprocessing\\data/k-face/old_path\\2400\\2400.JPG\n",
      "data/k-face/new_path/train/2401\n",
      "data/k-face/new_path/test/2401\n",
      "c:\\Users\\king7\\OneDrive\\바탕 화면\\KHU\\CV_Project\\Project-Arcface\\preprocessing\\data/k-face/old_path\\2401\\2401.jpg\n",
      "data/k-face/new_path/train/2402\n",
      "data/k-face/new_path/test/2402\n",
      "c:\\Users\\king7\\OneDrive\\바탕 화면\\KHU\\CV_Project\\Project-Arcface\\preprocessing\\data/k-face/old_path\\2402\\2402.JPG\n",
      "data/k-face/new_path/train/2403\n",
      "data/k-face/new_path/test/2403\n",
      "c:\\Users\\king7\\OneDrive\\바탕 화면\\KHU\\CV_Project\\Project-Arcface\\preprocessing\\data/k-face/old_path\\2403\\2403.jpg\n",
      "data/k-face/new_path/train/2406\n",
      "data/k-face/new_path/test/2406\n",
      "c:\\Users\\king7\\OneDrive\\바탕 화면\\KHU\\CV_Project\\Project-Arcface\\preprocessing\\data/k-face/old_path\\2406\\2406.jpg\n",
      "data/k-face/new_path/train/2407\n",
      "data/k-face/new_path/test/2407\n",
      "c:\\Users\\king7\\OneDrive\\바탕 화면\\KHU\\CV_Project\\Project-Arcface\\preprocessing\\data/k-face/old_path\\2407\\2407.jpg\n",
      "data/k-face/new_path/train/2408\n",
      "data/k-face/new_path/test/2408\n",
      "c:\\Users\\king7\\OneDrive\\바탕 화면\\KHU\\CV_Project\\Project-Arcface\\preprocessing\\data/k-face/old_path\\2408\\2408.jpg\n",
      "data/k-face/new_path/train/2413\n",
      "data/k-face/new_path/test/2413\n",
      "c:\\Users\\king7\\OneDrive\\바탕 화면\\KHU\\CV_Project\\Project-Arcface\\preprocessing\\data/k-face/old_path\\2413\\2413.JPG\n",
      "data/k-face/new_path/train/2414\n",
      "data/k-face/new_path/test/2414\n",
      "c:\\Users\\king7\\OneDrive\\바탕 화면\\KHU\\CV_Project\\Project-Arcface\\preprocessing\\data/k-face/old_path\\2414\\2414.JPG\n",
      "data/k-face/new_path/train/2415\n",
      "data/k-face/new_path/test/2415\n",
      "c:\\Users\\king7\\OneDrive\\바탕 화면\\KHU\\CV_Project\\Project-Arcface\\preprocessing\\data/k-face/old_path\\2415\\2415.jpg\n",
      "data/k-face/new_path/train/2416\n",
      "data/k-face/new_path/test/2416\n",
      "c:\\Users\\king7\\OneDrive\\바탕 화면\\KHU\\CV_Project\\Project-Arcface\\preprocessing\\data/k-face/old_path\\2416\\2416.JPG\n",
      "data/k-face/new_path/train/2417\n",
      "data/k-face/new_path/test/2417\n",
      "c:\\Users\\king7\\OneDrive\\바탕 화면\\KHU\\CV_Project\\Project-Arcface\\preprocessing\\data/k-face/old_path\\2417\\2417.JPG\n",
      "data/k-face/new_path/train/2418\n",
      "data/k-face/new_path/test/2418\n",
      "c:\\Users\\king7\\OneDrive\\바탕 화면\\KHU\\CV_Project\\Project-Arcface\\preprocessing\\data/k-face/old_path\\2418\\2418.jpg\n",
      "data/k-face/new_path/train/2419\n",
      "data/k-face/new_path/test/2419\n",
      "c:\\Users\\king7\\OneDrive\\바탕 화면\\KHU\\CV_Project\\Project-Arcface\\preprocessing\\data/k-face/old_path\\2419\\2419.JPG\n",
      "data/k-face/new_path/train/2420\n",
      "data/k-face/new_path/test/2420\n",
      "c:\\Users\\king7\\OneDrive\\바탕 화면\\KHU\\CV_Project\\Project-Arcface\\preprocessing\\data/k-face/old_path\\2420\\2420.jpg\n",
      "data/k-face/new_path/train/2421\n",
      "data/k-face/new_path/test/2421\n",
      "c:\\Users\\king7\\OneDrive\\바탕 화면\\KHU\\CV_Project\\Project-Arcface\\preprocessing\\data/k-face/old_path\\2421\\2421.jpg\n",
      "data/k-face/new_path/train/2424\n",
      "data/k-face/new_path/test/2424\n",
      "c:\\Users\\king7\\OneDrive\\바탕 화면\\KHU\\CV_Project\\Project-Arcface\\preprocessing\\data/k-face/old_path\\2424\\2424.jpg\n",
      "data/k-face/new_path/train/2425\n",
      "data/k-face/new_path/test/2425\n",
      "c:\\Users\\king7\\OneDrive\\바탕 화면\\KHU\\CV_Project\\Project-Arcface\\preprocessing\\data/k-face/old_path\\2425\\2425.jpg\n",
      "data/k-face/new_path/train/2426\n",
      "data/k-face/new_path/test/2426\n",
      "c:\\Users\\king7\\OneDrive\\바탕 화면\\KHU\\CV_Project\\Project-Arcface\\preprocessing\\data/k-face/old_path\\2426\\2426.JPG\n",
      "data/k-face/new_path/train/2427\n",
      "data/k-face/new_path/test/2427\n",
      "c:\\Users\\king7\\OneDrive\\바탕 화면\\KHU\\CV_Project\\Project-Arcface\\preprocessing\\data/k-face/old_path\\2427\\2427.JPG\n",
      "data/k-face/new_path/train/2428\n",
      "data/k-face/new_path/test/2428\n",
      "c:\\Users\\king7\\OneDrive\\바탕 화면\\KHU\\CV_Project\\Project-Arcface\\preprocessing\\data/k-face/old_path\\2428\\2428.JPG\n",
      "data/k-face/new_path/train/2429\n",
      "data/k-face/new_path/test/2429\n",
      "c:\\Users\\king7\\OneDrive\\바탕 화면\\KHU\\CV_Project\\Project-Arcface\\preprocessing\\data/k-face/old_path\\2429\\2429.JPG\n",
      "data/k-face/new_path/train/2430\n",
      "data/k-face/new_path/test/2430\n",
      "c:\\Users\\king7\\OneDrive\\바탕 화면\\KHU\\CV_Project\\Project-Arcface\\preprocessing\\data/k-face/old_path\\2430\\2430.jpg\n",
      "data/k-face/new_path/train/2431\n",
      "data/k-face/new_path/test/2431\n",
      "c:\\Users\\king7\\OneDrive\\바탕 화면\\KHU\\CV_Project\\Project-Arcface\\preprocessing\\data/k-face/old_path\\2431\\2431.jpg\n",
      "data/k-face/new_path/train/2433\n",
      "data/k-face/new_path/test/2433\n",
      "c:\\Users\\king7\\OneDrive\\바탕 화면\\KHU\\CV_Project\\Project-Arcface\\preprocessing\\data/k-face/old_path\\2433\\2433.JPG\n",
      "data/k-face/new_path/train/2434\n",
      "data/k-face/new_path/test/2434\n",
      "c:\\Users\\king7\\OneDrive\\바탕 화면\\KHU\\CV_Project\\Project-Arcface\\preprocessing\\data/k-face/old_path\\2434\\2434.jpg\n",
      "data/k-face/new_path/train/2435\n",
      "data/k-face/new_path/test/2435\n",
      "c:\\Users\\king7\\OneDrive\\바탕 화면\\KHU\\CV_Project\\Project-Arcface\\preprocessing\\data/k-face/old_path\\2435\\2435.JPG\n",
      "data/k-face/new_path/train/2436\n",
      "data/k-face/new_path/test/2436\n",
      "c:\\Users\\king7\\OneDrive\\바탕 화면\\KHU\\CV_Project\\Project-Arcface\\preprocessing\\data/k-face/old_path\\2436\\2436.jpg\n",
      "data/k-face/new_path/train/2437\n",
      "data/k-face/new_path/test/2437\n",
      "c:\\Users\\king7\\OneDrive\\바탕 화면\\KHU\\CV_Project\\Project-Arcface\\preprocessing\\data/k-face/old_path\\2437\\2437.JPG\n",
      "data/k-face/new_path/train/2441\n",
      "data/k-face/new_path/test/2441\n",
      "c:\\Users\\king7\\OneDrive\\바탕 화면\\KHU\\CV_Project\\Project-Arcface\\preprocessing\\data/k-face/old_path\\2441\\2441.jpg\n"
     ]
    },
    {
     "name": "stderr",
     "output_type": "stream",
     "text": [
      "\n"
     ]
    }
   ],
   "source": [
    "# 폴더 내 모든 이미지파일 가져오기\n",
    "\n",
    "for people_name in tqdm(os.listdir(old_path)):\n",
    "    select_path = people_name \n",
    "    people_dir_path=os.path.join(old_path, select_path)\n",
    "    \n",
    "    img_paths = list(paths.list_images(people_dir_path))\n",
    "    random.shuffle(img_paths)\n",
    "    \n",
    "    train_path = 'data/k-face/new_path/train/'\n",
    "    test_path = 'data/k-face/new_path/test/'\n",
    "\n",
    "    new_people_dir_train = os.path.join(train_path, people_name).replace('\\\\','/')\n",
    "    new_people_dir_test = os.path.join(test_path, people_name).replace('\\\\','/')\n",
    "    print(new_people_dir_train)\n",
    "    print(new_people_dir_test)\n",
    "\n",
    "    try:\n",
    "        os.makedirs(new_people_dir_train)\n",
    "        os.makedirs(new_people_dir_test)\n",
    "\n",
    "    except Exception as err:\n",
    "        print(err)\n",
    "        \n",
    "    for i,img_path in enumerate(img_paths):\n",
    "        print(img_path)\n",
    "\n",
    "        img_name = os.path.split(img_path)[1]\n",
    "        E_dir = os.path.split(os.path.split(img_path)[0])[1]\n",
    "        new_img_name = E_dir + '_'+ img_name\n",
    "  \n",
    "        if i <40:\n",
    "            new_img_path = os.path.join(new_people_dir_train).replace('\\\\','/')\n",
    "        else:\n",
    "            new_img_path = os.path.join(new_people_dir_test).replace('\\\\','/')\n",
    "\n",
    "\n",
    "        shutil.copy(img_path, new_img_path)\n"
   ]
  },
  {
   "cell_type": "code",
   "execution_count": null,
   "metadata": {},
   "outputs": [],
   "source": []
  },
  {
   "cell_type": "code",
   "execution_count": null,
   "metadata": {},
   "outputs": [],
   "source": []
  }
 ],
 "metadata": {
  "kernelspec": {
   "display_name": "Python 3",
   "language": "python",
   "name": "python3"
  },
  "language_info": {
   "codemirror_mode": {
    "name": "ipython",
    "version": 3
   },
   "file_extension": ".py",
   "mimetype": "text/x-python",
   "name": "python",
   "nbconvert_exporter": "python",
   "pygments_lexer": "ipython3",
   "version": "3.12.0"
  },
  "toc": {
   "base_numbering": 1,
   "nav_menu": {},
   "number_sections": false,
   "sideBar": true,
   "skip_h1_title": false,
   "title_cell": "Table of Contents",
   "title_sidebar": "Contents",
   "toc_cell": false,
   "toc_position": {},
   "toc_section_display": true,
   "toc_window_display": false
  }
 },
 "nbformat": 4,
 "nbformat_minor": 2
}
